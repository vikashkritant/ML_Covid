{
  "nbformat": 4,
  "nbformat_minor": 0,
  "metadata": {
    "kernelspec": {
      "display_name": "Python 3",
      "language": "python",
      "name": "python3"
    },
    "language_info": {
      "codemirror_mode": {
        "name": "ipython",
        "version": 3
      },
      "file_extension": ".py",
      "mimetype": "text/x-python",
      "name": "python",
      "nbconvert_exporter": "python",
      "pygments_lexer": "ipython3",
      "version": "3.8.5"
    },
    "colab": {
      "name": "Copy of kiran_assignment.ipynb",
      "provenance": []
    }
  },
  "cells": [
    {
      "cell_type": "markdown",
      "metadata": {
        "id": "d0uKS9iqEy_m"
      },
      "source": [
        "## 1. Importing Libraries/Data"
      ]
    },
    {
      "cell_type": "code",
      "metadata": {
        "id": "UxpreIiCEy_4"
      },
      "source": [
        "import pandas as pd\n",
        "import numpy as np\n",
        "from matplotlib import pyplot as plt\n",
        "import seaborn as sns\n",
        "from sklearn.preprocessing import StandardScaler, PowerTransformer\n",
        "from sklearn.model_selection import train_test_split\n",
        "from sklearn.metrics import mean_squared_error as mse\n",
        "from sklearn.metrics import mean_absolute_error as mae\n",
        "from sklearn.metrics import r2_score"
      ],
      "execution_count": null,
      "outputs": []
    },
    {
      "cell_type": "code",
      "metadata": {
        "id": "1Y-svOt5Ey_9"
      },
      "source": [
        "data = pd.read_csv('covid_dataset.csv')"
      ],
      "execution_count": null,
      "outputs": []
    },
    {
      "cell_type": "markdown",
      "metadata": {
        "id": "_aIDj10SEzAA"
      },
      "source": [
        "## 2. Data Visulization and Exploration"
      ]
    },
    {
      "cell_type": "code",
      "metadata": {
        "id": "QJyPvAb1EzAC",
        "outputId": "14e143ad-dc02-4a25-8ad9-aa13f1bb7fb7"
      },
      "source": [
        "#First 5 rows of the data\n",
        "data.head()"
      ],
      "execution_count": null,
      "outputs": [
        {
          "output_type": "execute_result",
          "data": {
            "text/html": [
              "<div>\n",
              "<style scoped>\n",
              "    .dataframe tbody tr th:only-of-type {\n",
              "        vertical-align: middle;\n",
              "    }\n",
              "\n",
              "    .dataframe tbody tr th {\n",
              "        vertical-align: top;\n",
              "    }\n",
              "\n",
              "    .dataframe thead th {\n",
              "        text-align: right;\n",
              "    }\n",
              "</style>\n",
              "<table border=\"1\" class=\"dataframe\">\n",
              "  <thead>\n",
              "    <tr style=\"text-align: right;\">\n",
              "      <th></th>\n",
              "      <th>Date</th>\n",
              "      <th>Country</th>\n",
              "      <th>Confirmed</th>\n",
              "      <th>Recovered</th>\n",
              "      <th>Deaths</th>\n",
              "    </tr>\n",
              "  </thead>\n",
              "  <tbody>\n",
              "    <tr>\n",
              "      <th>0</th>\n",
              "      <td>01-05-2020</td>\n",
              "      <td>India</td>\n",
              "      <td>37257</td>\n",
              "      <td>10007</td>\n",
              "      <td>1223</td>\n",
              "    </tr>\n",
              "    <tr>\n",
              "      <th>1</th>\n",
              "      <td>02-05-2020</td>\n",
              "      <td>India</td>\n",
              "      <td>39699</td>\n",
              "      <td>10819</td>\n",
              "      <td>1323</td>\n",
              "    </tr>\n",
              "    <tr>\n",
              "      <th>2</th>\n",
              "      <td>03-05-2020</td>\n",
              "      <td>India</td>\n",
              "      <td>42505</td>\n",
              "      <td>11775</td>\n",
              "      <td>1391</td>\n",
              "    </tr>\n",
              "    <tr>\n",
              "      <th>3</th>\n",
              "      <td>04-05-2020</td>\n",
              "      <td>India</td>\n",
              "      <td>46437</td>\n",
              "      <td>12847</td>\n",
              "      <td>1566</td>\n",
              "    </tr>\n",
              "    <tr>\n",
              "      <th>4</th>\n",
              "      <td>05-05-2020</td>\n",
              "      <td>India</td>\n",
              "      <td>49400</td>\n",
              "      <td>14142</td>\n",
              "      <td>1693</td>\n",
              "    </tr>\n",
              "  </tbody>\n",
              "</table>\n",
              "</div>"
            ],
            "text/plain": [
              "         Date Country  Confirmed  Recovered  Deaths\n",
              "0  01-05-2020   India      37257      10007    1223\n",
              "1  02-05-2020   India      39699      10819    1323\n",
              "2  03-05-2020   India      42505      11775    1391\n",
              "3  04-05-2020   India      46437      12847    1566\n",
              "4  05-05-2020   India      49400      14142    1693"
            ]
          },
          "metadata": {
            "tags": []
          },
          "execution_count": 163
        }
      ]
    },
    {
      "cell_type": "code",
      "metadata": {
        "id": "XuZcy5-nEzAG",
        "outputId": "34d9845f-fd33-4598-9a0c-395481b30a4a"
      },
      "source": [
        "# Description of data and Null check\n",
        "\n",
        "print('Null Check\\n' + str(data.isnull().sum()))\n",
        "\n",
        "print(\"\\n\\nThe Shape of the data is \" +str(data.shape))\n",
        "\n",
        "print('\\n\\nThe description of data:  \\n')\n",
        "print(data.info())\n"
      ],
      "execution_count": null,
      "outputs": [
        {
          "output_type": "stream",
          "text": [
            "Null Check\n",
            "Date         0\n",
            "Country      0\n",
            "Confirmed    0\n",
            "Recovered    0\n",
            "Deaths       0\n",
            "dtype: int64\n",
            "\n",
            "\n",
            "The Shape of the data is (150, 5)\n",
            "\n",
            "\n",
            "The description of data:  \n",
            "\n",
            "<class 'pandas.core.frame.DataFrame'>\n",
            "RangeIndex: 150 entries, 0 to 149\n",
            "Data columns (total 5 columns):\n",
            " #   Column     Non-Null Count  Dtype \n",
            "---  ------     --------------  ----- \n",
            " 0   Date       150 non-null    object\n",
            " 1   Country    150 non-null    object\n",
            " 2   Confirmed  150 non-null    int64 \n",
            " 3   Recovered  150 non-null    int64 \n",
            " 4   Deaths     150 non-null    int64 \n",
            "dtypes: int64(3), object(2)\n",
            "memory usage: 6.0+ KB\n",
            "None\n"
          ],
          "name": "stdout"
        }
      ]
    },
    {
      "cell_type": "markdown",
      "metadata": {
        "id": "MTeLxqFrEzAJ"
      },
      "source": [
        "This dataset consist of information about the Covid-19 Patients in India. There are no Null values to be found in the dataset. This dataset consist of 150 rows and 5 coloums."
      ]
    },
    {
      "cell_type": "code",
      "metadata": {
        "id": "Yqhf1j8uEzAM",
        "outputId": "dd872187-0e31-4cad-bf4c-749fea48ee18"
      },
      "source": [
        "# Visualization\n",
        "data['Date'] = pd.to_datetime(data['Date'], format = '%d-%m-%Y')\n",
        "\n",
        "\n",
        "fig, ax = plt.subplots(3,1, figsize=(12,15))\n",
        "\n",
        "\n",
        "ax[0].plot(data['Date'], data['Confirmed'])\n",
        "ax[0].set_title('The Covid-19 Confirmed Cases from 05/2020 - 10/2020')\n",
        "\n",
        "ax[1].plot(data['Date'], data['Recovered'])\n",
        "ax[1].set_title('The Covid-19 Recovered count from 05/2020 - 10/2020')\n",
        "\n",
        "ax[2].plot(data['Date'], data['Deaths'])\n",
        "ax[2].set_title('The Covid-19 Death count from 05/2020 - 10/2020')\n",
        "\n",
        "plt.show()"
      ],
      "execution_count": null,
      "outputs": [
        {
          "output_type": "display_data",
          "data": {
            "image/png": "[encoded data removed]",
            "text/plain": [
              "<Figure size 864x1080 with 3 Axes>"
            ]
          },
          "metadata": {
            "tags": [],
            "needs_background": "light"
          }
        }
      ]
    },
    {
      "cell_type": "markdown",
      "metadata": {
        "id": "DTjG0xf6EzAS"
      },
      "source": [
        "##  ------ Write Description about graph------ ####"
      ]
    },
    {
      "cell_type": "markdown",
      "metadata": {
        "id": "xZZROALxEzAX"
      },
      "source": [
        "## 3. Data Preprocessing and Cleaning"
      ]
    },
    {
      "cell_type": "markdown",
      "metadata": {
        "id": "N6e5eSluEzAY"
      },
      "source": [
        "No null values or missing values are found in this dataset. \n",
        "\n",
        "No data is considered as outliers as all the values are important for the model to perform regression.\n"
      ]
    },
    {
      "cell_type": "code",
      "metadata": {
        "id": "B8zZAfnaEzAZ",
        "outputId": "16299477-b10b-4ccb-96f0-dfdcfcd332bb"
      },
      "source": [
        "# We will remove Date and Country as they will not be usefull in model \n",
        "\n",
        "data_cleaned = data.drop(['Date', 'Country'], axis=1)\n",
        "data_cleaned.head()"
      ],
      "execution_count": null,
      "outputs": [
        {
          "output_type": "execute_result",
          "data": {
            "text/html": [
              "<div>\n",
              "<style scoped>\n",
              "    .dataframe tbody tr th:only-of-type {\n",
              "        vertical-align: middle;\n",
              "    }\n",
              "\n",
              "    .dataframe tbody tr th {\n",
              "        vertical-align: top;\n",
              "    }\n",
              "\n",
              "    .dataframe thead th {\n",
              "        text-align: right;\n",
              "    }\n",
              "</style>\n",
              "<table border=\"1\" class=\"dataframe\">\n",
              "  <thead>\n",
              "    <tr style=\"text-align: right;\">\n",
              "      <th></th>\n",
              "      <th>Confirmed</th>\n",
              "      <th>Recovered</th>\n",
              "      <th>Deaths</th>\n",
              "    </tr>\n",
              "  </thead>\n",
              "  <tbody>\n",
              "    <tr>\n",
              "      <th>0</th>\n",
              "      <td>37257</td>\n",
              "      <td>10007</td>\n",
              "      <td>1223</td>\n",
              "    </tr>\n",
              "    <tr>\n",
              "      <th>1</th>\n",
              "      <td>39699</td>\n",
              "      <td>10819</td>\n",
              "      <td>1323</td>\n",
              "    </tr>\n",
              "    <tr>\n",
              "      <th>2</th>\n",
              "      <td>42505</td>\n",
              "      <td>11775</td>\n",
              "      <td>1391</td>\n",
              "    </tr>\n",
              "    <tr>\n",
              "      <th>3</th>\n",
              "      <td>46437</td>\n",
              "      <td>12847</td>\n",
              "      <td>1566</td>\n",
              "    </tr>\n",
              "    <tr>\n",
              "      <th>4</th>\n",
              "      <td>49400</td>\n",
              "      <td>14142</td>\n",
              "      <td>1693</td>\n",
              "    </tr>\n",
              "  </tbody>\n",
              "</table>\n",
              "</div>"
            ],
            "text/plain": [
              "   Confirmed  Recovered  Deaths\n",
              "0      37257      10007    1223\n",
              "1      39699      10819    1323\n",
              "2      42505      11775    1391\n",
              "3      46437      12847    1566\n",
              "4      49400      14142    1693"
            ]
          },
          "metadata": {
            "tags": []
          },
          "execution_count": 166
        }
      ]
    },
    {
      "cell_type": "code",
      "metadata": {
        "id": "IvkeGOtAEzAb",
        "outputId": "2fd378a1-a0ef-4a13-9c40-4da83e5e4ab2"
      },
      "source": [
        "# Correlation Matrix / Correlation Analysis\n",
        "\n",
        "correlation = data_cleaned.corr()\n",
        "sns.heatmap(correlation, annot=True)\n",
        "plt.title('Correlation Matrix')\n",
        "plt.show()"
      ],
      "execution_count": null,
      "outputs": [
        {
          "output_type": "display_data",
          "data": {
            "image/png": "[encoded data removed]",
            "text/plain": [
              "<Figure size 432x288 with 2 Axes>"
            ]
          },
          "metadata": {
            "tags": [],
            "needs_background": "light"
          }
        }
      ]
    },
    {
      "cell_type": "markdown",
      "metadata": {
        "id": "O31LJ-ND2NRt"
      },
      "source": [
        ""
      ]
    },
    {
      "cell_type": "code",
      "metadata": {
        "id": "B0FbVNLsEzAd"
      },
      "source": [
        "# Normalization \n",
        "\n",
        "scaler = StandardScaler()\n",
        "data_scaled = scaler.fit_transform(data_cleaned)\n"
      ],
      "execution_count": null,
      "outputs": []
    },
    {
      "cell_type": "markdown",
      "metadata": {
        "id": "wH605zvyEzAe"
      },
      "source": [
        "## 4. Data Preparation"
      ]
    },
    {
      "cell_type": "code",
      "metadata": {
        "id": "6LfCsWBpEzAe"
      },
      "source": [
        "# Defining class X and Class Y\n",
        "# We will be predicting Death counts for the future so Deaths will be Y\n",
        "\n",
        "Y = data_scaled[:, 2:3]\n",
        "X = data_scaled[:, :2]"
      ],
      "execution_count": null,
      "outputs": []
    },
    {
      "cell_type": "code",
      "metadata": {
        "id": "xm4DmovEEzAf",
        "outputId": "620c0dfe-5190-4f69-fa50-f848ef53d31b"
      },
      "source": [
        "# Spliting data into Train/Test sets with 10% testing set\n",
        "\n",
        "x_train, x_test, y_train, y_test = train_test_split(X,Y, test_size=0.1, random_state=0)\n",
        "\n",
        "print('The Training set size is: ' + str(x_train.shape) + str(y_train.shape))\n",
        "print('The Testing set size is: ' + str(x_test.shape) + str(y_test.shape))"
      ],
      "execution_count": null,
      "outputs": [
        {
          "output_type": "stream",
          "text": [
            "The Training set size is: (135, 2)(135, 1)\n",
            "The Testing set size is: (15, 2)(15, 1)\n"
          ],
          "name": "stdout"
        }
      ]
    },
    {
      "cell_type": "markdown",
      "metadata": {
        "id": "hblwxgdwEzAg"
      },
      "source": [
        "## 5. Model Building"
      ]
    },
    {
      "cell_type": "markdown",
      "metadata": {
        "id": "jd0Z9-KxEzAg"
      },
      "source": [
        "We will be doing Regression for this dataset/problem.\n",
        "\n",
        "The Three Classic Machine Learnig Models we will be using are:\n",
        "1. Linear Regression\n",
        "2. Lasso Regression\n",
        "3. Ridge Regression"
      ]
    },
    {
      "cell_type": "code",
      "metadata": {
        "id": "csjeiyUxEzAg"
      },
      "source": [
        "# function defined to evaluate metrics/loss functions\n",
        "def evaluate(y_pred, y_test):\n",
        "    print('Mean Abosulte Error (MAE) is:  ' + str(mae(y_pred, y_test)))\n",
        "    print('Mean Squared Error (MSE) is: ' + str(mse(y_pred, y_test)))\n",
        "    print('Root Mean Squared Error (RMSE) is: ' + str(np.sqrt(mse(y_pred, y_test))))\n",
        "    print('The test accuracy or test R2 Score is: ' + str(r2_score(y_pred, y_test)))"
      ],
      "execution_count": null,
      "outputs": []
    },
    {
      "cell_type": "markdown",
      "metadata": {
        "id": "Jr9Qi-56EzAh"
      },
      "source": [
        "### Linear Regression"
      ]
    },
    {
      "cell_type": "code",
      "metadata": {
        "id": "xftGJkVXEzAh"
      },
      "source": [
        "from sklearn.linear_model import LinearRegression\n",
        "\n",
        "model1 = LinearRegression()\n",
        "model1 = model1.fit(x_train, y_train)\n",
        "\n",
        "y_pred = model1.predict(x_test)\n"
      ],
      "execution_count": null,
      "outputs": []
    },
    {
      "cell_type": "code",
      "metadata": {
        "id": "NnJlOnu5EzAi",
        "outputId": "64499eee-5a12-420c-99b2-00d9c4a0db07"
      },
      "source": [
        "# The training score\n",
        "print(model1.score(x_train, y_train))"
      ],
      "execution_count": null,
      "outputs": [
        {
          "output_type": "stream",
          "text": [
            "0.9973375764473346\n"
          ],
          "name": "stdout"
        }
      ]
    },
    {
      "cell_type": "code",
      "metadata": {
        "id": "2HESENXTEzAi",
        "outputId": "e511d964-91b4-42a0-ce87-a9b8215c0e91"
      },
      "source": [
        "# evalute the model\n",
        "evaluate(y_pred, y_test)"
      ],
      "execution_count": null,
      "outputs": [
        {
          "output_type": "stream",
          "text": [
            "Mean Abosulte Error (MAE) is:  0.05713247243077188\n",
            "Mean Squared Error (MSE) is: 0.004127639993169746\n",
            "Root Mean Squared Error (RMSE) is: 0.06424671192496738\n",
            "The test accuracy or test R2 Score is: 0.9926343417285131\n"
          ],
          "name": "stdout"
        }
      ]
    },
    {
      "cell_type": "markdown",
      "metadata": {
        "id": "Hs3b_5lHEzAj"
      },
      "source": [
        "### Lasso Regression"
      ]
    },
    {
      "cell_type": "code",
      "metadata": {
        "id": "xZkWKq_vEzAj"
      },
      "source": [
        "from sklearn.linear_model import Lasso\n",
        "\n",
        "model2 = Lasso(random_state=0, alpha=0.25)\n",
        "model2.fit(x_train, y_train)\n",
        "\n",
        "y_pred = model2.predict(x_test)"
      ],
      "execution_count": null,
      "outputs": []
    },
    {
      "cell_type": "code",
      "metadata": {
        "id": "4SiZFIp_EzAj",
        "outputId": "48c7dbff-6fe3-4042-a258-41b604b5021a"
      },
      "source": [
        "# The Training accuracy\n",
        "print(model2.score(x_train, y_train))"
      ],
      "execution_count": null,
      "outputs": [
        {
          "output_type": "stream",
          "text": [
            "0.9287795392398286\n"
          ],
          "name": "stdout"
        }
      ]
    },
    {
      "cell_type": "code",
      "metadata": {
        "id": "TieeSJ5NEzAl",
        "outputId": "d8b4db94-f2d4-46dd-e442-af4e1b4a20f6"
      },
      "source": [
        "evaluate(y_pred, y_test)"
      ],
      "execution_count": null,
      "outputs": [
        {
          "output_type": "stream",
          "text": [
            "Mean Abosulte Error (MAE) is:  0.16967836053533675\n",
            "Mean Squared Error (MSE) is: 0.043755070533845884\n",
            "Root Mean Squared Error (RMSE) is: 0.20917712717657705\n",
            "The test accuracy or test R2 Score is: 0.8478982552770971\n"
          ],
          "name": "stdout"
        }
      ]
    },
    {
      "cell_type": "markdown",
      "metadata": {
        "id": "Fh_508mbEzAl"
      },
      "source": [
        "### Ridge Regression"
      ]
    },
    {
      "cell_type": "code",
      "metadata": {
        "id": "AN6rp9i8EzAl"
      },
      "source": [
        "from sklearn.linear_model import Ridge\n",
        "\n",
        "model3 = Ridge(random_state=0)\n",
        "model3.fit(x_train, y_train)\n",
        "\n",
        "y_pred = model3.predict(x_test)"
      ],
      "execution_count": null,
      "outputs": []
    },
    {
      "cell_type": "code",
      "metadata": {
        "id": "qUspwgvXEzAm",
        "outputId": "6045a059-749d-426a-b54a-7dcc3743add5"
      },
      "source": [
        "# The Training accuracy\n",
        "print(model3.score(x_train, y_train))"
      ],
      "execution_count": null,
      "outputs": [
        {
          "output_type": "stream",
          "text": [
            "0.9850151479818373\n"
          ],
          "name": "stdout"
        }
      ]
    },
    {
      "cell_type": "code",
      "metadata": {
        "id": "crXz6IDxEzAm",
        "outputId": "64e06400-7161-4841-acff-df7feab66ca3"
      },
      "source": [
        "evaluate(y_pred, y_test)"
      ],
      "execution_count": null,
      "outputs": [
        {
          "output_type": "stream",
          "text": [
            "Mean Abosulte Error (MAE) is:  0.11061882656992432\n",
            "Mean Squared Error (MSE) is: 0.013679448757264985\n",
            "Root Mean Squared Error (RMSE) is: 0.11695917560099757\n",
            "The test accuracy or test R2 Score is: 0.9721028351699679\n"
          ],
          "name": "stdout"
        }
      ]
    },
    {
      "cell_type": "markdown",
      "metadata": {
        "id": "a8n8OS8yEzAn"
      },
      "source": [
        "## Conclusion/Inference\n",
        "\n",
        "Linear Regression is seen to be the best model out of the three models with least error and highest r2 value."
      ]
    },
    {
      "cell_type": "code",
      "metadata": {
        "id": "FONcRDMIEzAn"
      },
      "source": [
        ""
      ],
      "execution_count": null,
      "outputs": []
    }
  ]
}